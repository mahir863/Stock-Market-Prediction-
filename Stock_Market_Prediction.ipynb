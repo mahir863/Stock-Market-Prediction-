{
  "nbformat": 4,
  "nbformat_minor": 0,
  "metadata": {
    "colab": {
      "provenance": []
    },
    "kernelspec": {
      "name": "python3",
      "display_name": "Python 3"
    }
  },
  "cells": [
    {
      "cell_type": "markdown",
      "source": [
        "                                                 Stock Market Prediction Machine Learning Model\n",
        "\n",
        "---\n",
        "\n",
        "\n",
        "\n",
        "---\n",
        "\n",
        "\n",
        "\n",
        "\n",
        "\n",
        "\n",
        "\n"
      ],
      "metadata": {
        "id": "jtY5jvg52Lw_"
      }
    },
    {
      "cell_type": "code",
      "metadata": {
        "colab": {
          "base_uri": "https://localhost:8080/"
        },
        "id": "ww6cl3yvejPp",
        "outputId": "a9c57db5-aa94-4505-9bde-7ee97ec5f14e"
      },
      "source": [
        "#Installing 'quandl'\n",
        "!pip install quandl"
      ],
      "execution_count": null,
      "outputs": [
        {
          "output_type": "stream",
          "name": "stdout",
          "text": [
            "Looking in indexes: https://pypi.org/simple, https://us-python.pkg.dev/colab-wheels/public/simple/\n",
            "Requirement already satisfied: quandl in /usr/local/lib/python3.8/dist-packages (3.7.0)\n",
            "Requirement already satisfied: python-dateutil in /usr/local/lib/python3.8/dist-packages (from quandl) (2.8.2)\n",
            "Requirement already satisfied: more-itertools in /usr/local/lib/python3.8/dist-packages (from quandl) (9.0.0)\n",
            "Requirement already satisfied: pandas>=0.14 in /usr/local/lib/python3.8/dist-packages (from quandl) (1.3.5)\n",
            "Requirement already satisfied: numpy>=1.8 in /usr/local/lib/python3.8/dist-packages (from quandl) (1.21.6)\n",
            "Requirement already satisfied: inflection>=0.3.1 in /usr/local/lib/python3.8/dist-packages (from quandl) (0.5.1)\n",
            "Requirement already satisfied: requests>=2.7.0 in /usr/local/lib/python3.8/dist-packages (from quandl) (2.25.1)\n",
            "Requirement already satisfied: six in /usr/local/lib/python3.8/dist-packages (from quandl) (1.15.0)\n",
            "Requirement already satisfied: pytz>=2017.3 in /usr/local/lib/python3.8/dist-packages (from pandas>=0.14->quandl) (2022.7)\n",
            "Requirement already satisfied: certifi>=2017.4.17 in /usr/local/lib/python3.8/dist-packages (from requests>=2.7.0->quandl) (2022.12.7)\n",
            "Requirement already satisfied: idna<3,>=2.5 in /usr/local/lib/python3.8/dist-packages (from requests>=2.7.0->quandl) (2.10)\n",
            "Requirement already satisfied: chardet<5,>=3.0.2 in /usr/local/lib/python3.8/dist-packages (from requests>=2.7.0->quandl) (4.0.0)\n",
            "Requirement already satisfied: urllib3<1.27,>=1.21.1 in /usr/local/lib/python3.8/dist-packages (from requests>=2.7.0->quandl) (1.24.3)\n"
          ]
        }
      ]
    },
    {
      "cell_type": "code",
      "metadata": {
        "id": "AK7WUC0FepZa"
      },
      "source": [
        "#Impoting necessary packages and libraries\n",
        "import quandl, math\n",
        "import numpy as np\n",
        "import seaborn as sns\n",
        "import matplotlib.pyplot as plt\n",
        "from sklearn.model_selection import train_test_split\n",
        "from sklearn import preprocessing\n",
        "from sklearn.linear_model import LinearRegression\n",
        "from sklearn.metrics import mean_squared_error"
      ],
      "execution_count": null,
      "outputs": []
    },
    {
      "cell_type": "code",
      "metadata": {
        "colab": {
          "base_uri": "https://localhost:8080/"
        },
        "id": "ZB6x2oxse3oI",
        "outputId": "a82ecf1a-3775-4bd5-a028-a0f83fc9863e"
      },
      "source": [
        "#Defining the API key for Qyandl\n",
        "auth_tok=\"y7up7Ma76YDycziKzoTA\"\n",
        "#Taking the data from Quandle into variable 'data'\n",
        "# data = quandl.get(\"EOD/AAPL\", trim_start = \"2000-12-12\", trim_end = \"2020-12-30\", authtoken=auth_tok)\n",
        "# data=quandl.get(\"BSE/BOM500180\",trim_start = \"2000-12-12\", trim_end = \"2022-12-30\", authtoken=auth_tok )\n",
        "data = quandl.get('WIKI/TSLA', start_date = \"2010-06-29\", end_date = \"2018-03-27\")\n",
        "\n",
        "#Printing the dataset\n",
        "print(data)"
      ],
      "execution_count": null,
      "outputs": [
        {
          "output_type": "stream",
          "name": "stdout",
          "text": [
            "              Open      High     Low   Close      Volume  Ex-Dividend  \\\n",
            "Date                                                                    \n",
            "2010-06-29   19.00   25.0000   17.54   23.89  18766300.0          0.0   \n",
            "2010-06-30   25.79   30.4192   23.30   23.83  17187100.0          0.0   \n",
            "2010-07-01   25.00   25.9200   20.27   21.96   8218800.0          0.0   \n",
            "2010-07-02   23.00   23.1000   18.71   19.20   5139800.0          0.0   \n",
            "2010-07-06   20.00   20.0000   15.83   16.11   6866900.0          0.0   \n",
            "...            ...       ...     ...     ...         ...          ...   \n",
            "2018-03-21  310.25  322.4400  310.19  316.53   5927881.0          0.0   \n",
            "2018-03-22  313.89  318.8200  308.18  309.10   4914307.0          0.0   \n",
            "2018-03-23  311.25  311.6100  300.45  301.54   6600538.0          0.0   \n",
            "2018-03-26  307.34  307.5900  291.36  304.18   8324639.0          0.0   \n",
            "2018-03-27  304.00  304.2700  277.18  279.18  13696168.0          0.0   \n",
            "\n",
            "            Split Ratio  Adj. Open  Adj. High  Adj. Low  Adj. Close  \\\n",
            "Date                                                                  \n",
            "2010-06-29          1.0      19.00    25.0000     17.54       23.89   \n",
            "2010-06-30          1.0      25.79    30.4192     23.30       23.83   \n",
            "2010-07-01          1.0      25.00    25.9200     20.27       21.96   \n",
            "2010-07-02          1.0      23.00    23.1000     18.71       19.20   \n",
            "2010-07-06          1.0      20.00    20.0000     15.83       16.11   \n",
            "...                 ...        ...        ...       ...         ...   \n",
            "2018-03-21          1.0     310.25   322.4400    310.19      316.53   \n",
            "2018-03-22          1.0     313.89   318.8200    308.18      309.10   \n",
            "2018-03-23          1.0     311.25   311.6100    300.45      301.54   \n",
            "2018-03-26          1.0     307.34   307.5900    291.36      304.18   \n",
            "2018-03-27          1.0     304.00   304.2700    277.18      279.18   \n",
            "\n",
            "            Adj. Volume  \n",
            "Date                     \n",
            "2010-06-29   18766300.0  \n",
            "2010-06-30   17187100.0  \n",
            "2010-07-01    8218800.0  \n",
            "2010-07-02    5139800.0  \n",
            "2010-07-06    6866900.0  \n",
            "...                 ...  \n",
            "2018-03-21    5927881.0  \n",
            "2018-03-22    4914307.0  \n",
            "2018-03-23    6600538.0  \n",
            "2018-03-26    8324639.0  \n",
            "2018-03-27   13696168.0  \n",
            "\n",
            "[1949 rows x 12 columns]\n"
          ]
        }
      ]
    },
    {
      "cell_type": "code",
      "source": [
        "data\n"
      ],
      "metadata": {
        "colab": {
          "base_uri": "https://localhost:8080/",
          "height": 455
        },
        "id": "17QSou2jtkkT",
        "outputId": "b9791435-c0b3-4a60-8e2a-a12c8a85a6a0"
      },
      "execution_count": null,
      "outputs": [
        {
          "output_type": "execute_result",
          "data": {
            "text/plain": [
              "              Open      High     Low   Close      Volume  Ex-Dividend  \\\n",
              "Date                                                                    \n",
              "2010-06-29   19.00   25.0000   17.54   23.89  18766300.0          0.0   \n",
              "2010-06-30   25.79   30.4192   23.30   23.83  17187100.0          0.0   \n",
              "2010-07-01   25.00   25.9200   20.27   21.96   8218800.0          0.0   \n",
              "2010-07-02   23.00   23.1000   18.71   19.20   5139800.0          0.0   \n",
              "2010-07-06   20.00   20.0000   15.83   16.11   6866900.0          0.0   \n",
              "...            ...       ...     ...     ...         ...          ...   \n",
              "2018-03-21  310.25  322.4400  310.19  316.53   5927881.0          0.0   \n",
              "2018-03-22  313.89  318.8200  308.18  309.10   4914307.0          0.0   \n",
              "2018-03-23  311.25  311.6100  300.45  301.54   6600538.0          0.0   \n",
              "2018-03-26  307.34  307.5900  291.36  304.18   8324639.0          0.0   \n",
              "2018-03-27  304.00  304.2700  277.18  279.18  13696168.0          0.0   \n",
              "\n",
              "            Split Ratio  Adj. Open  Adj. High  Adj. Low  Adj. Close  \\\n",
              "Date                                                                  \n",
              "2010-06-29          1.0      19.00    25.0000     17.54       23.89   \n",
              "2010-06-30          1.0      25.79    30.4192     23.30       23.83   \n",
              "2010-07-01          1.0      25.00    25.9200     20.27       21.96   \n",
              "2010-07-02          1.0      23.00    23.1000     18.71       19.20   \n",
              "2010-07-06          1.0      20.00    20.0000     15.83       16.11   \n",
              "...                 ...        ...        ...       ...         ...   \n",
              "2018-03-21          1.0     310.25   322.4400    310.19      316.53   \n",
              "2018-03-22          1.0     313.89   318.8200    308.18      309.10   \n",
              "2018-03-23          1.0     311.25   311.6100    300.45      301.54   \n",
              "2018-03-26          1.0     307.34   307.5900    291.36      304.18   \n",
              "2018-03-27          1.0     304.00   304.2700    277.18      279.18   \n",
              "\n",
              "            Adj. Volume  \n",
              "Date                     \n",
              "2010-06-29   18766300.0  \n",
              "2010-06-30   17187100.0  \n",
              "2010-07-01    8218800.0  \n",
              "2010-07-02    5139800.0  \n",
              "2010-07-06    6866900.0  \n",
              "...                 ...  \n",
              "2018-03-21    5927881.0  \n",
              "2018-03-22    4914307.0  \n",
              "2018-03-23    6600538.0  \n",
              "2018-03-26    8324639.0  \n",
              "2018-03-27   13696168.0  \n",
              "\n",
              "[1949 rows x 12 columns]"
            ],
            "text/html": [
              "\n",
              "  <div id=\"df-ff09b00d-b05f-4cc8-b6fd-9e81d24a9319\">\n",
              "    <div class=\"colab-df-container\">\n",
              "      <div>\n",
              "<style scoped>\n",
              "    .dataframe tbody tr th:only-of-type {\n",
              "        vertical-align: middle;\n",
              "    }\n",
              "\n",
              "    .dataframe tbody tr th {\n",
              "        vertical-align: top;\n",
              "    }\n",
              "\n",
              "    .dataframe thead th {\n",
              "        text-align: right;\n",
              "    }\n",
              "</style>\n",
              "<table border=\"1\" class=\"dataframe\">\n",
              "  <thead>\n",
              "    <tr style=\"text-align: right;\">\n",
              "      <th></th>\n",
              "      <th>Open</th>\n",
              "      <th>High</th>\n",
              "      <th>Low</th>\n",
              "      <th>Close</th>\n",
              "      <th>Volume</th>\n",
              "      <th>Ex-Dividend</th>\n",
              "      <th>Split Ratio</th>\n",
              "      <th>Adj. Open</th>\n",
              "      <th>Adj. High</th>\n",
              "      <th>Adj. Low</th>\n",
              "      <th>Adj. Close</th>\n",
              "      <th>Adj. Volume</th>\n",
              "    </tr>\n",
              "    <tr>\n",
              "      <th>Date</th>\n",
              "      <th></th>\n",
              "      <th></th>\n",
              "      <th></th>\n",
              "      <th></th>\n",
              "      <th></th>\n",
              "      <th></th>\n",
              "      <th></th>\n",
              "      <th></th>\n",
              "      <th></th>\n",
              "      <th></th>\n",
              "      <th></th>\n",
              "      <th></th>\n",
              "    </tr>\n",
              "  </thead>\n",
              "  <tbody>\n",
              "    <tr>\n",
              "      <th>2010-06-29</th>\n",
              "      <td>19.00</td>\n",
              "      <td>25.0000</td>\n",
              "      <td>17.54</td>\n",
              "      <td>23.89</td>\n",
              "      <td>18766300.0</td>\n",
              "      <td>0.0</td>\n",
              "      <td>1.0</td>\n",
              "      <td>19.00</td>\n",
              "      <td>25.0000</td>\n",
              "      <td>17.54</td>\n",
              "      <td>23.89</td>\n",
              "      <td>18766300.0</td>\n",
              "    </tr>\n",
              "    <tr>\n",
              "      <th>2010-06-30</th>\n",
              "      <td>25.79</td>\n",
              "      <td>30.4192</td>\n",
              "      <td>23.30</td>\n",
              "      <td>23.83</td>\n",
              "      <td>17187100.0</td>\n",
              "      <td>0.0</td>\n",
              "      <td>1.0</td>\n",
              "      <td>25.79</td>\n",
              "      <td>30.4192</td>\n",
              "      <td>23.30</td>\n",
              "      <td>23.83</td>\n",
              "      <td>17187100.0</td>\n",
              "    </tr>\n",
              "    <tr>\n",
              "      <th>2010-07-01</th>\n",
              "      <td>25.00</td>\n",
              "      <td>25.9200</td>\n",
              "      <td>20.27</td>\n",
              "      <td>21.96</td>\n",
              "      <td>8218800.0</td>\n",
              "      <td>0.0</td>\n",
              "      <td>1.0</td>\n",
              "      <td>25.00</td>\n",
              "      <td>25.9200</td>\n",
              "      <td>20.27</td>\n",
              "      <td>21.96</td>\n",
              "      <td>8218800.0</td>\n",
              "    </tr>\n",
              "    <tr>\n",
              "      <th>2010-07-02</th>\n",
              "      <td>23.00</td>\n",
              "      <td>23.1000</td>\n",
              "      <td>18.71</td>\n",
              "      <td>19.20</td>\n",
              "      <td>5139800.0</td>\n",
              "      <td>0.0</td>\n",
              "      <td>1.0</td>\n",
              "      <td>23.00</td>\n",
              "      <td>23.1000</td>\n",
              "      <td>18.71</td>\n",
              "      <td>19.20</td>\n",
              "      <td>5139800.0</td>\n",
              "    </tr>\n",
              "    <tr>\n",
              "      <th>2010-07-06</th>\n",
              "      <td>20.00</td>\n",
              "      <td>20.0000</td>\n",
              "      <td>15.83</td>\n",
              "      <td>16.11</td>\n",
              "      <td>6866900.0</td>\n",
              "      <td>0.0</td>\n",
              "      <td>1.0</td>\n",
              "      <td>20.00</td>\n",
              "      <td>20.0000</td>\n",
              "      <td>15.83</td>\n",
              "      <td>16.11</td>\n",
              "      <td>6866900.0</td>\n",
              "    </tr>\n",
              "    <tr>\n",
              "      <th>...</th>\n",
              "      <td>...</td>\n",
              "      <td>...</td>\n",
              "      <td>...</td>\n",
              "      <td>...</td>\n",
              "      <td>...</td>\n",
              "      <td>...</td>\n",
              "      <td>...</td>\n",
              "      <td>...</td>\n",
              "      <td>...</td>\n",
              "      <td>...</td>\n",
              "      <td>...</td>\n",
              "      <td>...</td>\n",
              "    </tr>\n",
              "    <tr>\n",
              "      <th>2018-03-21</th>\n",
              "      <td>310.25</td>\n",
              "      <td>322.4400</td>\n",
              "      <td>310.19</td>\n",
              "      <td>316.53</td>\n",
              "      <td>5927881.0</td>\n",
              "      <td>0.0</td>\n",
              "      <td>1.0</td>\n",
              "      <td>310.25</td>\n",
              "      <td>322.4400</td>\n",
              "      <td>310.19</td>\n",
              "      <td>316.53</td>\n",
              "      <td>5927881.0</td>\n",
              "    </tr>\n",
              "    <tr>\n",
              "      <th>2018-03-22</th>\n",
              "      <td>313.89</td>\n",
              "      <td>318.8200</td>\n",
              "      <td>308.18</td>\n",
              "      <td>309.10</td>\n",
              "      <td>4914307.0</td>\n",
              "      <td>0.0</td>\n",
              "      <td>1.0</td>\n",
              "      <td>313.89</td>\n",
              "      <td>318.8200</td>\n",
              "      <td>308.18</td>\n",
              "      <td>309.10</td>\n",
              "      <td>4914307.0</td>\n",
              "    </tr>\n",
              "    <tr>\n",
              "      <th>2018-03-23</th>\n",
              "      <td>311.25</td>\n",
              "      <td>311.6100</td>\n",
              "      <td>300.45</td>\n",
              "      <td>301.54</td>\n",
              "      <td>6600538.0</td>\n",
              "      <td>0.0</td>\n",
              "      <td>1.0</td>\n",
              "      <td>311.25</td>\n",
              "      <td>311.6100</td>\n",
              "      <td>300.45</td>\n",
              "      <td>301.54</td>\n",
              "      <td>6600538.0</td>\n",
              "    </tr>\n",
              "    <tr>\n",
              "      <th>2018-03-26</th>\n",
              "      <td>307.34</td>\n",
              "      <td>307.5900</td>\n",
              "      <td>291.36</td>\n",
              "      <td>304.18</td>\n",
              "      <td>8324639.0</td>\n",
              "      <td>0.0</td>\n",
              "      <td>1.0</td>\n",
              "      <td>307.34</td>\n",
              "      <td>307.5900</td>\n",
              "      <td>291.36</td>\n",
              "      <td>304.18</td>\n",
              "      <td>8324639.0</td>\n",
              "    </tr>\n",
              "    <tr>\n",
              "      <th>2018-03-27</th>\n",
              "      <td>304.00</td>\n",
              "      <td>304.2700</td>\n",
              "      <td>277.18</td>\n",
              "      <td>279.18</td>\n",
              "      <td>13696168.0</td>\n",
              "      <td>0.0</td>\n",
              "      <td>1.0</td>\n",
              "      <td>304.00</td>\n",
              "      <td>304.2700</td>\n",
              "      <td>277.18</td>\n",
              "      <td>279.18</td>\n",
              "      <td>13696168.0</td>\n",
              "    </tr>\n",
              "  </tbody>\n",
              "</table>\n",
              "<p>1949 rows × 12 columns</p>\n",
              "</div>\n",
              "      <button class=\"colab-df-convert\" onclick=\"convertToInteractive('df-ff09b00d-b05f-4cc8-b6fd-9e81d24a9319')\"\n",
              "              title=\"Convert this dataframe to an interactive table.\"\n",
              "              style=\"display:none;\">\n",
              "        \n",
              "  <svg xmlns=\"http://www.w3.org/2000/svg\" height=\"24px\"viewBox=\"0 0 24 24\"\n",
              "       width=\"24px\">\n",
              "    <path d=\"M0 0h24v24H0V0z\" fill=\"none\"/>\n",
              "    <path d=\"M18.56 5.44l.94 2.06.94-2.06 2.06-.94-2.06-.94-.94-2.06-.94 2.06-2.06.94zm-11 1L8.5 8.5l.94-2.06 2.06-.94-2.06-.94L8.5 2.5l-.94 2.06-2.06.94zm10 10l.94 2.06.94-2.06 2.06-.94-2.06-.94-.94-2.06-.94 2.06-2.06.94z\"/><path d=\"M17.41 7.96l-1.37-1.37c-.4-.4-.92-.59-1.43-.59-.52 0-1.04.2-1.43.59L10.3 9.45l-7.72 7.72c-.78.78-.78 2.05 0 2.83L4 21.41c.39.39.9.59 1.41.59.51 0 1.02-.2 1.41-.59l7.78-7.78 2.81-2.81c.8-.78.8-2.07 0-2.86zM5.41 20L4 18.59l7.72-7.72 1.47 1.35L5.41 20z\"/>\n",
              "  </svg>\n",
              "      </button>\n",
              "      \n",
              "  <style>\n",
              "    .colab-df-container {\n",
              "      display:flex;\n",
              "      flex-wrap:wrap;\n",
              "      gap: 12px;\n",
              "    }\n",
              "\n",
              "    .colab-df-convert {\n",
              "      background-color: #E8F0FE;\n",
              "      border: none;\n",
              "      border-radius: 50%;\n",
              "      cursor: pointer;\n",
              "      display: none;\n",
              "      fill: #1967D2;\n",
              "      height: 32px;\n",
              "      padding: 0 0 0 0;\n",
              "      width: 32px;\n",
              "    }\n",
              "\n",
              "    .colab-df-convert:hover {\n",
              "      background-color: #E2EBFA;\n",
              "      box-shadow: 0px 1px 2px rgba(60, 64, 67, 0.3), 0px 1px 3px 1px rgba(60, 64, 67, 0.15);\n",
              "      fill: #174EA6;\n",
              "    }\n",
              "\n",
              "    [theme=dark] .colab-df-convert {\n",
              "      background-color: #3B4455;\n",
              "      fill: #D2E3FC;\n",
              "    }\n",
              "\n",
              "    [theme=dark] .colab-df-convert:hover {\n",
              "      background-color: #434B5C;\n",
              "      box-shadow: 0px 1px 3px 1px rgba(0, 0, 0, 0.15);\n",
              "      filter: drop-shadow(0px 1px 2px rgba(0, 0, 0, 0.3));\n",
              "      fill: #FFFFFF;\n",
              "    }\n",
              "  </style>\n",
              "\n",
              "      <script>\n",
              "        const buttonEl =\n",
              "          document.querySelector('#df-ff09b00d-b05f-4cc8-b6fd-9e81d24a9319 button.colab-df-convert');\n",
              "        buttonEl.style.display =\n",
              "          google.colab.kernel.accessAllowed ? 'block' : 'none';\n",
              "\n",
              "        async function convertToInteractive(key) {\n",
              "          const element = document.querySelector('#df-ff09b00d-b05f-4cc8-b6fd-9e81d24a9319');\n",
              "          const dataTable =\n",
              "            await google.colab.kernel.invokeFunction('convertToInteractive',\n",
              "                                                     [key], {});\n",
              "          if (!dataTable) return;\n",
              "\n",
              "          const docLinkHtml = 'Like what you see? Visit the ' +\n",
              "            '<a target=\"_blank\" href=https://colab.research.google.com/notebooks/data_table.ipynb>data table notebook</a>'\n",
              "            + ' to learn more about interactive tables.';\n",
              "          element.innerHTML = '';\n",
              "          dataTable['output_type'] = 'display_data';\n",
              "          await google.colab.output.renderOutput(dataTable, element);\n",
              "          const docLink = document.createElement('div');\n",
              "          docLink.innerHTML = docLinkHtml;\n",
              "          element.appendChild(docLink);\n",
              "        }\n",
              "      </script>\n",
              "    </div>\n",
              "  </div>\n",
              "  "
            ]
          },
          "metadata": {},
          "execution_count": 11
        }
      ]
    },
    {
      "cell_type": "code",
      "metadata": {
        "colab": {
          "base_uri": "https://localhost:8080/"
        },
        "id": "e7OgDt3xfunY",
        "outputId": "35e141b8-e16d-4bc9-b9f6-5e420193cd8f"
      },
      "source": [
        "#Taking only necessary columns in dataset (for creating new columns)\n",
        "data = data[['Adj. Open',  'Adj. High',  'Adj. Low',  'Adj. Close', 'Adj. Volume']]\n",
        "#Creating new columns, and adding data for them using specific formula\n",
        "data['HL_PCT'] = (data['Adj. High'] - data['Adj. Low']) / data['Adj. Close'] * 100.0\n",
        "data['PCT_change'] = (data['Adj. Close'] - data['Adj. Open']) / data['Adj. Open'] * 100.0\n",
        "#Taking only ncessary columns in final working dataset\n",
        "data = data[['Adj. Close', 'HL_PCT', 'PCT_change', 'Adj. Volume']]\n",
        "#Printing the updated dataset\n",
        "print(data)"
      ],
      "execution_count": null,
      "outputs": [
        {
          "output_type": "stream",
          "name": "stdout",
          "text": [
            "            Adj. Close     HL_PCT  PCT_change  Adj. Volume\n",
            "Date                                                      \n",
            "2010-06-29       23.89  31.226455   25.736842   18766300.0\n",
            "2010-06-30       23.83  29.874948   -7.599845   17187100.0\n",
            "2010-07-01       21.96  25.728597  -12.160000    8218800.0\n",
            "2010-07-02       19.20  22.864583  -16.521739    5139800.0\n",
            "2010-07-06       16.11  25.884544  -19.450000    6866900.0\n",
            "...                ...        ...         ...          ...\n",
            "2018-03-21      316.53   3.870091    2.024174    5927881.0\n",
            "2018-03-22      309.10   3.442252   -1.526012    4914307.0\n",
            "2018-03-23      301.54   3.701002   -3.119679    6600538.0\n",
            "2018-03-26      304.18   5.335657   -1.028177    8324639.0\n",
            "2018-03-27      279.18   9.703417   -8.164474   13696168.0\n",
            "\n",
            "[1949 rows x 4 columns]\n"
          ]
        },
        {
          "output_type": "stream",
          "name": "stderr",
          "text": [
            "<ipython-input-13-c626f4a3b686>:4: SettingWithCopyWarning: \n",
            "A value is trying to be set on a copy of a slice from a DataFrame.\n",
            "Try using .loc[row_indexer,col_indexer] = value instead\n",
            "\n",
            "See the caveats in the documentation: https://pandas.pydata.org/pandas-docs/stable/user_guide/indexing.html#returning-a-view-versus-a-copy\n",
            "  data['HL_PCT'] = (data['Adj. High'] - data['Adj. Low']) / data['Adj. Close'] * 100.0\n",
            "<ipython-input-13-c626f4a3b686>:5: SettingWithCopyWarning: \n",
            "A value is trying to be set on a copy of a slice from a DataFrame.\n",
            "Try using .loc[row_indexer,col_indexer] = value instead\n",
            "\n",
            "See the caveats in the documentation: https://pandas.pydata.org/pandas-docs/stable/user_guide/indexing.html#returning-a-view-versus-a-copy\n",
            "  data['PCT_change'] = (data['Adj. Close'] - data['Adj. Open']) / data['Adj. Open'] * 100.0\n"
          ]
        }
      ]
    },
    {
      "cell_type": "code",
      "metadata": {
        "colab": {
          "base_uri": "https://localhost:8080/",
          "height": 349
        },
        "id": "xATzEatPf1OA",
        "outputId": "b81dee95-f469-4789-bbbd-1b5bfb8a06f8"
      },
      "source": [
        "print(data[\"Adj. Close\"].plot())\n",
        "print(data[\"Adj. Volume\"].plot())\n",
        "print(data[\"PCT_change\"].plot())\n",
        "print(data[\"HL_PCT\"].plot())\n"
      ],
      "execution_count": null,
      "outputs": [
        {
          "output_type": "stream",
          "name": "stdout",
          "text": [
            "AxesSubplot(0.125,0.2;0.775x0.68)\n",
            "AxesSubplot(0.125,0.2;0.775x0.68)\n",
            "AxesSubplot(0.125,0.2;0.775x0.68)\n",
            "AxesSubplot(0.125,0.2;0.775x0.68)\n"
          ]
        },
        {
          "output_type": "display_data",
          "data": {
            "text/plain": [
              "<Figure size 432x288 with 1 Axes>"
            ],
            "image/png": "[encoded data removed]"
          },
          "metadata": {
            "needs_background": "light"
          }
        }
      ]
    },
    {
      "cell_type": "code",
      "metadata": {
        "colab": {
          "base_uri": "https://localhost:8080/",
          "height": 322
        },
        "id": "64f8aDkff6g9",
        "outputId": "ebe96e4a-4550-4ffa-9c66-be7066e5fe13"
      },
      "source": [
        "#Checking correlation among features\n",
        "print(\"Visualizing correlation between features using heatmap -->\\n\")\n",
        "sns.heatmap(data.corr(method='pearson'), cmap='Blues')"
      ],
      "execution_count": null,
      "outputs": [
        {
          "output_type": "stream",
          "name": "stdout",
          "text": [
            "Visualizing correlation between features using heatmap -->\n",
            "\n"
          ]
        },
        {
          "output_type": "execute_result",
          "data": {
            "text/plain": [
              "<matplotlib.axes._subplots.AxesSubplot at 0x7fcfcd8feb20>"
            ]
          },
          "metadata": {},
          "execution_count": 15
        },
        {
          "output_type": "display_data",
          "data": {
            "text/plain": [
              "<Figure size 432x288 with 2 Axes>"
            ],
            "image/png": "[encoded data removed]"
          },
          "metadata": {
            "needs_background": "light"
          }
        }
      ]
    },
    {
      "cell_type": "code",
      "metadata": {
        "id": "0LpKt_Jnf-mV"
      },
      "source": [
        "#Defining forecasting column\n",
        "forecast_col = 'Adj. Close'\n",
        "#Replacing NaN values with '-99999' value which is considered as an outlier by most ML classifiers\n",
        "data.fillna(value=-99999, inplace=True)\n",
        "#Forecasting out 1% of the dataset's length\n",
        "forecast_out = int(math.ceil(0.01 * len(data)))\n",
        "#Adding a new coumn for 'label'\n",
        "data['label'] = data[forecast_col].shift(-forecast_out)\n"
      ],
      "execution_count": null,
      "outputs": []
    },
    {
      "cell_type": "code",
      "metadata": {
        "colab": {
          "base_uri": "https://localhost:8080/"
        },
        "id": "79lAGdd0gCWD",
        "outputId": "58c3c9dd-91ff-44cd-9f6b-de4c59417400"
      },
      "source": [
        "print(data)"
      ],
      "execution_count": null,
      "outputs": [
        {
          "output_type": "stream",
          "name": "stdout",
          "text": [
            "            Adj. Close     HL_PCT  PCT_change  Adj. Volume  label\n",
            "Date                                                             \n",
            "2010-06-29       23.89  31.226455   25.736842   18766300.0  20.72\n",
            "2010-06-30       23.83  29.874948   -7.599845   17187100.0  20.35\n",
            "2010-07-01       21.96  25.728597  -12.160000    8218800.0  19.94\n",
            "2010-07-02       19.20  22.864583  -16.521739    5139800.0  20.92\n",
            "2010-07-06       16.11  25.884544  -19.450000    6866900.0  21.95\n",
            "...                ...        ...         ...          ...    ...\n",
            "2018-03-21      316.53   3.870091    2.024174    5927881.0    NaN\n",
            "2018-03-22      309.10   3.442252   -1.526012    4914307.0    NaN\n",
            "2018-03-23      301.54   3.701002   -3.119679    6600538.0    NaN\n",
            "2018-03-26      304.18   5.335657   -1.028177    8324639.0    NaN\n",
            "2018-03-27      279.18   9.703417   -8.164474   13696168.0    NaN\n",
            "\n",
            "[1949 rows x 5 columns]\n"
          ]
        }
      ]
    },
    {
      "cell_type": "code",
      "metadata": {
        "colab": {
          "base_uri": "https://localhost:8080/"
        },
        "id": "Md9GKqZEgFIb",
        "outputId": "b3a9643e-7b51-46aa-a49a-8f58229187a9"
      },
      "source": [
        "#Preparing X and y\n",
        "X = np.array(data.drop(['label'], 1))\n",
        "X = preprocessing.scale(X)\n",
        "X = X[:-forecast_out]\n",
        "data.dropna(inplace=True) #Dropping NaN values\n",
        "y = np.array(data['label'])\n",
        "#Splitting the data into 80:20 ratio\n",
        "X_train, X_test, y_train, y_test = train_test_split(X, y, test_size=0.2)\n",
        "#Training the linear regression model\n",
        "clf = LinearRegression(n_jobs=-1)\n",
        "clf.fit(X_train, y_train)"
      ],
      "execution_count": null,
      "outputs": [
        {
          "output_type": "stream",
          "name": "stderr",
          "text": [
            "<ipython-input-19-621c9b031b8e>:2: FutureWarning: In a future version of pandas all arguments of DataFrame.drop except for the argument 'labels' will be keyword-only\n",
            "  X = np.array(data.drop(['label'], 1))\n"
          ]
        },
        {
          "output_type": "execute_result",
          "data": {
            "text/plain": [
              "LinearRegression(n_jobs=-1)"
            ]
          },
          "metadata": {},
          "execution_count": 19
        }
      ]
    },
    {
      "cell_type": "code",
      "metadata": {
        "colab": {
          "base_uri": "https://localhost:8080/"
        },
        "id": "LMRWNTQJgLBW",
        "outputId": "a4e21e38-70e4-4c18-dc59-83d5fc0ff827"
      },
      "source": [
        "#Predicting y values\n",
        "y_predicted = clf.predict(X_test)\n",
        "#Printing predicted values\n",
        "print(y_predicted)\n"
      ],
      "execution_count": null,
      "outputs": [
        {
          "output_type": "stream",
          "name": "stdout",
          "text": [
            "[228.28016483  37.41813985  24.8402882   31.28981223  29.7434695\n",
            " 295.83500371 240.82777732 172.65895471 262.97259208  33.28463979\n",
            " 155.28053373 230.85719727 307.8330409   35.25947433 323.27447269\n",
            " 178.2670219  314.85352197 165.06452695 257.59405514 223.0653391\n",
            "  36.21762417 260.37673459  47.27720992 231.39580674 349.5406611\n",
            " 338.89258036  30.54366973 191.96949546  20.31610961  35.48807404\n",
            "  32.63486583  31.50047266  37.10305947  33.19855351  31.80765038\n",
            " 226.12458573 192.57274022 195.01702046 241.01200503  40.20985796\n",
            "  41.13890305 105.92860641 241.027687    37.39191444  20.71535238\n",
            " 354.04738219  11.88503283 198.94388345  38.28220025 277.73415114\n",
            " 253.3455577   39.84887885 253.06100083 305.25821721 220.75359354\n",
            " 222.95712074  32.9613066   27.86573259 348.64467179 202.32864755\n",
            " 207.77932287 220.83540794  28.48374509 207.68049955  32.54597463\n",
            " 264.84584947  29.02942496 230.3215046  322.01329145 237.54846559\n",
            " 262.76479402 181.55688282 183.95150479 357.18591945  34.13928669\n",
            " 198.46018284 282.29552774 240.42140987 208.78329518  33.0728686\n",
            " 238.78645007 246.92572906 250.09544229 360.56501613 310.13946891\n",
            " 349.40686808 262.66946587  25.42346356 251.65460001  34.85003396\n",
            "  20.22236796  26.26766679 252.69722031 197.84147265  36.9165208\n",
            "  42.52051087 170.58420684 266.99786366  44.47835355  40.46676003\n",
            " 221.03177152 196.06976749  29.14432234 221.00841866 342.32907844\n",
            " 202.99430102  38.03476602 108.72346406  58.6633893  223.93094733\n",
            " 275.0841041  282.88150715 213.02856617  45.19728549  32.57018297\n",
            " 304.78036889 128.86155509  32.53513301 108.91991931  41.95367219\n",
            " 195.27854332  33.46829151  47.60350983  42.47938216  27.51023638\n",
            " 175.231852   176.02803613 211.95597649  34.1131562   36.94614175\n",
            "  29.11935935  27.43303923  31.02964206 208.13657173 243.32952224\n",
            "  39.75661227  30.29631944 134.70674798  25.95758557 229.80659317\n",
            " 253.24304845 211.62223904 216.53354552 231.05832291 251.85119111\n",
            "  24.35423112  24.74514567 230.93008027 243.26131451 247.98069813\n",
            "  37.13434196  32.61347372  30.8210787  339.63444312  39.02063915\n",
            " 315.81136871 262.02142824 338.70245455  35.17655019  37.03966199\n",
            " 155.46521876  34.89238477 352.6476272   32.89796168  38.42814847\n",
            "  39.71037261  35.54829989 213.68721352  31.95319614 210.75626198\n",
            "  31.70171413 262.72654274 206.4668059   28.66962181 198.08850504\n",
            " 209.7901748  279.62798179  27.85379463 379.36634179 209.49342416\n",
            "  24.94423795 189.10563604 190.9624457   36.98676803 311.51346419\n",
            "  54.8924843   20.2920319   36.16582277  32.53278233 166.28147733\n",
            "  24.55934839 325.97573559 180.19994161 262.02762504 202.44692007\n",
            "  39.14790093  29.18754715 335.44157782  33.41318136  33.26290145\n",
            "  27.68528056 249.17999345 336.9669292   32.38270873 188.2274367\n",
            "  24.737082   206.1190235   22.27970296 310.48374964  34.43909613\n",
            " 268.26617055 352.31058086 224.74842554 183.76027116 167.64081153\n",
            " 191.03005092  28.90126846  33.51952958 248.31106173 350.63724562\n",
            " 212.02489551 230.16960681 189.04494526  38.92744349  33.22549975\n",
            " 362.9237576  349.21476019 217.56416729  33.54706912 130.55339003\n",
            " 190.4426343  257.63244617 310.73129217 193.90735482  31.46450923\n",
            " 125.80770321  30.9191873  214.49297951 229.75532265 224.61425264\n",
            "  25.06772283 264.31782187 132.18080483 207.13250151  36.80853307\n",
            "  28.02870834  32.98144264 261.14786649  37.10518543  34.84227831\n",
            "  36.45403104  25.95539407 107.25367354 239.15438884  31.36794051\n",
            "  31.4705908  342.04627679  23.42174864 172.43282461 240.15501285\n",
            " 223.23007127 129.5227935  206.54882742 227.71452492 186.97487865\n",
            " 273.68842494  22.37835764 107.78929096 220.1318137  208.98906249\n",
            " 233.8006773   59.19646254 250.04093406  28.02458878 261.19672624\n",
            " 269.08802282  26.81190261 211.32836808 179.61372879  24.69393714\n",
            "  28.0347014   31.90696404  24.21483608  35.18018945  30.84842858\n",
            "  54.52381578 222.05066631  25.55437438  36.40473704 329.16183132\n",
            " 214.07519039 228.06707245 177.53554038  35.40997199  42.85597211\n",
            " 306.27802648 207.97485588 222.89678287  30.89178384 276.01294936\n",
            " 154.0584856  248.99744731 319.25864114 371.26022911 255.0337162\n",
            " 309.45953464 374.57451098 223.65285978 224.22664689 141.96909714\n",
            "  25.43522014 194.25473     38.84832603 235.09345487 362.37524337\n",
            " 355.05033206 204.74382033  40.2064535  339.12778952 207.49479036\n",
            " 305.11045364 187.34842997  31.73096943 247.03968759 246.42036417\n",
            "  29.38735331  27.49229082  39.37719486 251.10125547 249.52695555\n",
            " 242.83902593 219.50585305  33.49914661 232.88413057 212.88044814\n",
            "  57.66494606  32.99848124 230.03830179 234.7879133  242.53279326\n",
            " 174.04829859  34.67833388 232.03901662 200.48938189  32.78618982\n",
            " 186.23966223  23.9921127  326.40341465  35.28888864 236.82593376\n",
            " 160.16456895 219.92213237  26.08944819  34.4171377  249.39112504\n",
            " 223.37016963 208.34940579 197.76150789  38.99147108 256.88212699\n",
            "  43.13487033 377.43345773  32.91591719  14.60713054 216.18995224\n",
            "  97.36432093 314.2657384  240.42891998  32.17315     40.00774233\n",
            " 354.96965798 244.75332625  25.10832471 149.19380629 323.42225018\n",
            "  42.56248631  31.47805931  23.36545179  34.49520221  36.31504217\n",
            "  21.27186141  37.86281224 314.81184468  36.31072892  30.93600216\n",
            "  39.2311167 ]\n"
          ]
        }
      ]
    },
    {
      "cell_type": "code",
      "metadata": {
        "colab": {
          "base_uri": "https://localhost:8080/",
          "height": 421
        },
        "id": "zOKZcTDXgOxN",
        "outputId": "8e097ce6-8969-4144-8180-cd11b53e9b8e"
      },
      "source": [
        "temp1 = []\n",
        "temp2 = []\n",
        "temp3 = []\n",
        "for i in range(20):\n",
        "  temp1.append(int(y_test[i]))\n",
        "for i in range(20):\n",
        "  temp2.append(int(y_predicted[i]))\n",
        "for i in range(20):\n",
        "  temp3.append(i)\n",
        "#Printing original values\n",
        "print(\"Actual values -->\")\n",
        "print(temp1)\n",
        "#Printing predicted values\n",
        "print(\"\\nPredicted values -->\")\n",
        "print(temp2)\n",
        "print(\"\\n\"*2)\n",
        "plt.scatter(temp3, temp1, marker=\"*\", color = 'blue')\n",
        "plt.scatter(temp3, temp2, color = 'orange')\n"
      ],
      "execution_count": null,
      "outputs": [
        {
          "output_type": "stream",
          "name": "stdout",
          "text": [
            "Actual values -->\n",
            "[222, 34, 34, 32, 27, 323, 247, 248, 246, 27, 139, 219, 311, 27, 359, 121, 349, 205, 248, 234]\n",
            "\n",
            "Predicted values -->\n",
            "[228, 37, 24, 31, 29, 295, 240, 172, 262, 33, 155, 230, 307, 35, 323, 178, 314, 165, 257, 223]\n",
            "\n",
            "\n",
            "\n"
          ]
        },
        {
          "output_type": "execute_result",
          "data": {
            "text/plain": [
              "<matplotlib.collections.PathCollection at 0x7fcfc9f6f370>"
            ]
          },
          "metadata": {},
          "execution_count": 21
        },
        {
          "output_type": "display_data",
          "data": {
            "text/plain": [
              "<Figure size 432x288 with 1 Axes>"
            ],
            "image/png": "[encoded data removed]"
          },
          "metadata": {
            "needs_background": "light"
          }
        }
      ]
    },
    {
      "cell_type": "code",
      "metadata": {
        "colab": {
          "base_uri": "https://localhost:8080/"
        },
        "id": "88-Ou0XHgXmC",
        "outputId": "93bd9f71-f804-482d-acc2-1f93583b8827"
      },
      "source": [
        "#Finding MSE value\n",
        "MSE = mean_squared_error(y_test, y_predicted)\n",
        "print(\"Mean Squared Error: %.5f\" %MSE)\n",
        "# Finding confidence value\n",
        "confidence = clf.score(X_test, y_predicted)\n",
        "print(\"Confidence:         %.5f\" %confidence)"
      ],
      "execution_count": null,
      "outputs": [
        {
          "output_type": "stream",
          "name": "stdout",
          "text": [
            "Mean Squared Error: 434.68616\n",
            "Confidence:         1.00000\n"
          ]
        }
      ]
    },
    {
      "cell_type": "code",
      "metadata": {
        "colab": {
          "base_uri": "https://localhost:8080/"
        },
        "id": "OSYjkxS3gb2o",
        "outputId": "f46c337c-f34f-4fd9-ccd3-54e9d4218af3"
      },
      "source": [
        "#Making prediction on custom value\n",
        "custom_pred = clf.predict([[-2.93777787e-01, -9.02387310e-01, -1.05003377e-01, -3.19550752e-01]])\n",
        "print(\"The prediction for custom values : %.5f\" % custom_pred)\n",
        "\n"
      ],
      "execution_count": null,
      "outputs": [
        {
          "output_type": "stream",
          "name": "stdout",
          "text": [
            "The prediction for custom values : 130.58091\n"
          ]
        }
      ]
    }
  ]
}
